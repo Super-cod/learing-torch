{
 "cells": [
  {
   "metadata": {},
   "cell_type": "raw",
   "source": [
    "\n",
    "\n",
    "so what is LSTM so see in RNN the thing is the nn after sometime keeps on forgetting thing so in LSTM we use { Long Short-Term Memory } . In LSTM the NN keeps the track of what to store and what to forget the weight"
   ],
   "id": "980d7f1567f16a75"
  },
  {
   "metadata": {
    "ExecuteTime": {
     "end_time": "2025-07-17T20:38:54.671926Z",
     "start_time": "2025-07-17T20:38:25.331715Z"
    }
   },
   "cell_type": "code",
   "source": [
    "import torch\n",
    "import torch.nn as nn\n",
    "import torch.optim as optim\n",
    "import torch.nn.functional as F\n",
    "from ipykernel.kernelapp import kernel_aliases\n",
    "from pySmartDL.download import download\n",
    "from tensorflow.python.ops.gen_dataset_ops import padded_batch_dataset\n",
    "from torchvision import datasets, transforms\n",
    "from torch.utils.data import DataLoader\n"
   ],
   "id": "9051b8d810bf2970",
   "outputs": [],
   "execution_count": 1
  },
  {
   "cell_type": "code",
   "id": "initial_id",
   "metadata": {
    "collapsed": true,
    "ExecuteTime": {
     "end_time": "2025-07-17T20:40:00.156420Z",
     "start_time": "2025-07-17T20:40:00.092073Z"
    }
   },
   "source": "device= \"cuda\" if torch.cuda.is_available() else \"cpu\"\n",
   "outputs": [],
   "execution_count": 2
  },
  {
   "metadata": {},
   "cell_type": "code",
   "outputs": [],
   "execution_count": null,
   "source": "",
   "id": "bcea9d9899580724"
  },
  {
   "metadata": {
    "ExecuteTime": {
     "end_time": "2025-07-17T20:59:57.251888Z",
     "start_time": "2025-07-17T20:59:57.236007Z"
    }
   },
   "cell_type": "code",
   "source": [
    "#Hyperparameter\n",
    "\n",
    "input_size=28\n",
    "hidden_size=256\n",
    "num_layers=2\n",
    "sequence_len=28\n",
    "learning_rate=0.001\n",
    "batch_size=64\n",
    "num_classes=10\n",
    "\n",
    "\n"
   ],
   "id": "4d380c9686f8f879",
   "outputs": [],
   "execution_count": 4
  },
  {
   "metadata": {
    "ExecuteTime": {
     "end_time": "2025-07-17T21:05:01.989094Z",
     "start_time": "2025-07-17T21:05:01.846082Z"
    }
   },
   "cell_type": "code",
   "source": [
    "# Load data set\n",
    "train =datasets.MNIST(\"\",train=True,\n",
    "                      transform= transforms.Compose([transforms.ToTensor()]))\n",
    "\n",
    "test =datasets.MNIST(\"\",train=False,\n",
    "                      transform= transforms.Compose([transforms.ToTensor()]))\n",
    "\n",
    "train_loader = DataLoader(dataset=train, batch_size=batch_size, shuffle=True)\n",
    "test_loader  = DataLoader(dataset=test,  batch_size=batch_size, shuffle=False)"
   ],
   "id": "3e20ddac5a78844f",
   "outputs": [],
   "execution_count": 6
  },
  {
   "metadata": {
    "ExecuteTime": {
     "end_time": "2025-07-17T22:13:21.944103Z",
     "start_time": "2025-07-17T22:13:21.928202Z"
    }
   },
   "cell_type": "code",
   "source": [
    "import torch\n",
    "import torch.nn as nn\n",
    "\n",
    "class BRNN(nn.Module):  # 👈 use nn.Module not nn.modules\n",
    "    def __init__(self, input_size, hidden_size, num_layers, num_classes):\n",
    "        super().__init__()\n",
    "\n",
    "        self.hidden_size = hidden_size\n",
    "        self.num_layers = num_layers\n",
    "\n",
    "        self.lstm = nn.LSTM(\n",
    "            input_size, hidden_size, num_layers,\n",
    "            batch_first=True, bidirectional=True # IN BIDIRICTIONAL THE NO OF NEURONS IE THE hidden size become 2 times to make forward and backward pass\n",
    "        )\n",
    "\n",
    "        self.fc = nn.Linear(hidden_size * 2, num_classes)\n",
    "\n",
    "    def forward(self, x):\n",
    "        h0 = torch.zeros(self.num_layers * 2, x.size(0), self.hidden_size).to(device)\n",
    "        c0 = torch.zeros(self.num_layers * 2, x.size(0), self.hidden_size).to(device)\n",
    "\n",
    "        out, _ = self.lstm(x, (h0, c0))\n",
    "\n",
    "        out = self.fc(out[:, -1, :])\n",
    "        return out\n"
   ],
   "id": "10913869fc6bcbc3",
   "outputs": [],
   "execution_count": 17
  },
  {
   "metadata": {
    "ExecuteTime": {
     "end_time": "2025-07-17T22:15:41.537677Z",
     "start_time": "2025-07-17T22:15:02.692282Z"
    }
   },
   "cell_type": "code",
   "source": [
    "num_epochs=3\n",
    "for epoch in range(num_epochs):\n",
    "    for i, (images, labels) in enumerate(train_loader):\n",
    "        # Move to device\n",
    "        images = images.reshape(-1, sequence_len, input_size).to(device)  # [batch, 28, 28]\n",
    "        labels = labels.to(device)\n",
    "\n",
    "        # Forward pass\n",
    "        outputs = model(images)\n",
    "        loss = criterion(outputs, labels)\n",
    "\n",
    "        # Backprop\n",
    "        optimizer.zero_grad()\n",
    "        loss.backward()\n",
    "        optimizer.step()\n",
    "\n",
    "        if (i+1) % 100 == 0:\n",
    "            print(f\"Epoch [{epoch+1}/{num_epochs}], Step [{i+1}/{len(train_loader)}], Loss: {loss.item():.4f}\")\n"
   ],
   "id": "cf8b6b9d4499966a",
   "outputs": [
    {
     "name": "stdout",
     "output_type": "stream",
     "text": [
      "Epoch [1/3], Step [100/938], Loss: 0.6803\n",
      "Epoch [1/3], Step [200/938], Loss: 0.6494\n",
      "Epoch [1/3], Step [300/938], Loss: 0.3410\n",
      "Epoch [1/3], Step [400/938], Loss: 0.2161\n",
      "Epoch [1/3], Step [500/938], Loss: 0.1565\n",
      "Epoch [1/3], Step [600/938], Loss: 0.1953\n",
      "Epoch [1/3], Step [700/938], Loss: 0.2101\n",
      "Epoch [1/3], Step [800/938], Loss: 0.0963\n",
      "Epoch [1/3], Step [900/938], Loss: 0.0369\n",
      "Epoch [2/3], Step [100/938], Loss: 0.2097\n",
      "Epoch [2/3], Step [200/938], Loss: 0.1329\n",
      "Epoch [2/3], Step [300/938], Loss: 0.1413\n",
      "Epoch [2/3], Step [400/938], Loss: 0.0869\n",
      "Epoch [2/3], Step [500/938], Loss: 0.1427\n",
      "Epoch [2/3], Step [600/938], Loss: 0.0738\n",
      "Epoch [2/3], Step [700/938], Loss: 0.1190\n",
      "Epoch [2/3], Step [800/938], Loss: 0.0982\n",
      "Epoch [2/3], Step [900/938], Loss: 0.2791\n",
      "Epoch [3/3], Step [100/938], Loss: 0.0112\n",
      "Epoch [3/3], Step [200/938], Loss: 0.0168\n",
      "Epoch [3/3], Step [300/938], Loss: 0.0409\n",
      "Epoch [3/3], Step [400/938], Loss: 0.0500\n",
      "Epoch [3/3], Step [500/938], Loss: 0.0880\n",
      "Epoch [3/3], Step [600/938], Loss: 0.0833\n",
      "Epoch [3/3], Step [700/938], Loss: 0.0084\n",
      "Epoch [3/3], Step [800/938], Loss: 0.0309\n",
      "Epoch [3/3], Step [900/938], Loss: 0.1403\n"
     ]
    }
   ],
   "execution_count": 22
  },
  {
   "metadata": {
    "ExecuteTime": {
     "end_time": "2025-07-17T22:14:57.924266Z",
     "start_time": "2025-07-17T22:14:57.648330Z"
    }
   },
   "cell_type": "code",
   "source": [
    "model = BRNN(input_size, hidden_size, num_layers, num_classes).to(device)\n",
    "criterion = nn.CrossEntropyLoss()\n",
    "optimizer = optim.Adam(model.parameters(), lr=learning_rate)"
   ],
   "id": "c4ab877455a5f386",
   "outputs": [],
   "execution_count": 21
  },
  {
   "metadata": {
    "ExecuteTime": {
     "end_time": "2025-07-17T22:15:55.493475Z",
     "start_time": "2025-07-17T22:15:53.982620Z"
    }
   },
   "cell_type": "code",
   "source": [
    "# Testing\n",
    "model.eval()\n",
    "with torch.no_grad():\n",
    "    correct = 0\n",
    "    total = 0\n",
    "    for images, labels in test_loader:\n",
    "        images = images.reshape(-1, sequence_len, input_size).to(device)\n",
    "        labels = labels.to(device)\n",
    "        outputs = model(images)\n",
    "\n",
    "        _, predicted = torch.max(outputs.data, 1)\n",
    "        total += labels.size(0)\n",
    "        correct += (predicted == labels).sum().item()\n",
    "\n",
    "    print(f\"Test Accuracy: {100 * correct / total:.2f}%\")"
   ],
   "id": "e6d088bfd6b88f41",
   "outputs": [
    {
     "name": "stdout",
     "output_type": "stream",
     "text": [
      "Test Accuracy: 98.35%\n"
     ]
    }
   ],
   "execution_count": 24
  },
  {
   "metadata": {},
   "cell_type": "code",
   "outputs": [],
   "execution_count": null,
   "source": "",
   "id": "205abb626dc6aed5"
  }
 ],
 "metadata": {
  "kernelspec": {
   "display_name": "Python 3",
   "language": "python",
   "name": "python3"
  },
  "language_info": {
   "codemirror_mode": {
    "name": "ipython",
    "version": 2
   },
   "file_extension": ".py",
   "mimetype": "text/x-python",
   "name": "python",
   "nbconvert_exporter": "python",
   "pygments_lexer": "ipython2",
   "version": "2.7.6"
  }
 },
 "nbformat": 4,
 "nbformat_minor": 5
}
