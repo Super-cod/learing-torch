{
 "cells": [
  {
   "cell_type": "code",
   "execution_count": 14,
   "id": "initial_id",
   "metadata": {
    "ExecuteTime": {
     "end_time": "2025-07-16T22:53:07.190338Z",
     "start_time": "2025-07-16T22:53:04.567145Z"
    },
    "collapsed": true
   },
   "outputs": [],
   "source": [
    "import torch\n",
    "import torch.nn as nn\n",
    "import torch.optim as optim\n",
    "import torch.nn.functional as F\n",
    "from ipykernel.kernelapp import kernel_aliases\n",
    "from pySmartDL.download import download\n",
    "from tensorflow.python.ops.gen_dataset_ops import padded_batch_dataset\n",
    "from torchvision import datasets, transforms\n",
    "from torch.utils.data import DataLoader\n"
   ]
  },
  {
   "cell_type": "code",
   "execution_count": 15,
   "id": "b4d2238a0e609aff",
   "metadata": {
    "ExecuteTime": {
     "end_time": "2025-07-16T22:53:09.586730Z",
     "start_time": "2025-07-16T22:53:09.570766Z"
    }
   },
   "outputs": [],
   "source": [
    "# Hyperparameters\n",
    "input_size = 28       # Each row of the image (28 pixels)\n",
    "sequence_length = 28  # Number of rows (28 steps)\n",
    "hidden_size = 128     # Size of hidden state\n",
    "num_layers = 2        # Number of RNN layers\n",
    "num_classes = 10      # Digits 0-9\n",
    "batch_size = 64\n",
    "num_epochs = 2\n",
    "learning_rate = 0.001"
   ]
  },
  {
   "cell_type": "code",
   "execution_count": 16,
   "id": "9d4037b7af46d85e",
   "metadata": {
    "ExecuteTime": {
     "end_time": "2025-07-16T22:53:10.003855Z",
     "start_time": "2025-07-16T22:53:09.988026Z"
    }
   },
   "outputs": [],
   "source": [
    "device=torch.device(\"cuda\" if torch.cuda.is_available() else \"cup\")"
   ]
  },
  {
   "cell_type": "code",
   "execution_count": 17,
   "id": "430aa07ca9c2d49",
   "metadata": {
    "ExecuteTime": {
     "end_time": "2025-07-16T22:54:25.829740Z",
     "start_time": "2025-07-16T22:53:10.443375Z"
    }
   },
   "outputs": [
    {
     "name": "stdout",
     "output_type": "stream",
     "text": [
      "Downloading http://yann.lecun.com/exdb/mnist/train-images-idx3-ubyte.gz\n",
      "Failed to download (trying next):\n",
      "HTTP Error 404: Not Found\n",
      "\n",
      "Downloading https://ossci-datasets.s3.amazonaws.com/mnist/train-images-idx3-ubyte.gz\n",
      "Downloading https://ossci-datasets.s3.amazonaws.com/mnist/train-images-idx3-ubyte.gz to MNIST\\raw\\train-images-idx3-ubyte.gz\n"
     ]
    },
    {
     "name": "stderr",
     "output_type": "stream",
     "text": [
      "100%|██████████| 9.91M/9.91M [00:38<00:00, 255kB/s] \n"
     ]
    },
    {
     "name": "stdout",
     "output_type": "stream",
     "text": [
      "Extracting MNIST\\raw\\train-images-idx3-ubyte.gz to MNIST\\raw\n",
      "\n",
      "Downloading http://yann.lecun.com/exdb/mnist/train-labels-idx1-ubyte.gz\n",
      "Failed to download (trying next):\n",
      "HTTP Error 404: Not Found\n",
      "\n",
      "Downloading https://ossci-datasets.s3.amazonaws.com/mnist/train-labels-idx1-ubyte.gz\n",
      "Downloading https://ossci-datasets.s3.amazonaws.com/mnist/train-labels-idx1-ubyte.gz to MNIST\\raw\\train-labels-idx1-ubyte.gz\n"
     ]
    },
    {
     "name": "stderr",
     "output_type": "stream",
     "text": [
      "100%|██████████| 28.9k/28.9k [00:00<00:00, 69.1kB/s]\n"
     ]
    },
    {
     "name": "stdout",
     "output_type": "stream",
     "text": [
      "Extracting MNIST\\raw\\train-labels-idx1-ubyte.gz to MNIST\\raw\n",
      "\n",
      "Downloading http://yann.lecun.com/exdb/mnist/t10k-images-idx3-ubyte.gz\n",
      "Failed to download (trying next):\n",
      "HTTP Error 404: Not Found\n",
      "\n",
      "Downloading https://ossci-datasets.s3.amazonaws.com/mnist/t10k-images-idx3-ubyte.gz\n",
      "Downloading https://ossci-datasets.s3.amazonaws.com/mnist/t10k-images-idx3-ubyte.gz to MNIST\\raw\\t10k-images-idx3-ubyte.gz\n"
     ]
    },
    {
     "name": "stderr",
     "output_type": "stream",
     "text": [
      "100%|██████████| 1.65M/1.65M [00:15<00:00, 105kB/s] \n"
     ]
    },
    {
     "name": "stdout",
     "output_type": "stream",
     "text": [
      "Extracting MNIST\\raw\\t10k-images-idx3-ubyte.gz to MNIST\\raw\n",
      "\n",
      "Downloading http://yann.lecun.com/exdb/mnist/t10k-labels-idx1-ubyte.gz\n",
      "Failed to download (trying next):\n",
      "HTTP Error 404: Not Found\n",
      "\n",
      "Downloading https://ossci-datasets.s3.amazonaws.com/mnist/t10k-labels-idx1-ubyte.gz\n",
      "Downloading https://ossci-datasets.s3.amazonaws.com/mnist/t10k-labels-idx1-ubyte.gz to MNIST\\raw\\t10k-labels-idx1-ubyte.gz\n"
     ]
    },
    {
     "name": "stderr",
     "output_type": "stream",
     "text": [
      "100%|██████████| 4.54k/4.54k [00:00<00:00, 5.34MB/s]"
     ]
    },
    {
     "name": "stdout",
     "output_type": "stream",
     "text": [
      "Extracting MNIST\\raw\\t10k-labels-idx1-ubyte.gz to MNIST\\raw\n",
      "\n"
     ]
    },
    {
     "name": "stderr",
     "output_type": "stream",
     "text": [
      "\n"
     ]
    }
   ],
   "source": [
    "# MNIST dataset\n",
    "train =datasets.MNIST(\"\",train=True,download=True,\n",
    "                      transform= transforms.Compose([transforms.ToTensor()]))\n",
    "\n",
    "test =datasets.MNIST(\"\",train=False,download=True,\n",
    "                      transform= transforms.Compose([transforms.ToTensor()]))\n",
    "\n",
    "# Data loaders\n",
    "train_loader = DataLoader(dataset=train, batch_size=batch_size, shuffle=True)\n",
    "test_loader  = DataLoader(dataset=test,  batch_size=batch_size, shuffle=False)"
   ]
  },
  {
   "cell_type": "code",
   "execution_count": 20,
   "id": "a497c0bc232713d8",
   "metadata": {
    "ExecuteTime": {
     "end_time": "2025-07-16T22:55:01.445507Z",
     "start_time": "2025-07-16T22:55:00.881829Z"
    }
   },
   "outputs": [],
   "source": [
    "model = RNN(input_size, hidden_size, num_layers, num_classes).to(device)\n",
    "criterion = nn.CrossEntropyLoss()\n",
    "optimizer = optim.Adam(model.parameters(), lr=learning_rate)"
   ]
  },
  {
   "cell_type": "code",
   "execution_count": null,
   "id": "6af33058ac8a64bb",
   "metadata": {
    "ExecuteTime": {
     "end_time": "2025-07-16T22:54:55.594063Z",
     "start_time": "2025-07-16T22:54:55.582449Z"
    }
   },
   "outputs": [],
   "source": [
    "# RNN Model\n",
    "class RNN(nn.Module):\n",
    "    def __init__(self, input_size, hidden_size, num_layers, num_classes):\n",
    "        super(RNN, self).__init__()\n",
    "        self.hidden_size = hidden_size\n",
    "        self.num_layers = num_layers\n",
    "\n",
    "        self.rnn = nn.RNN(input_size, hidden_size, num_layers, batch_first=True)\n",
    "        self.fc = nn.Linear(hidden_size * sequence_length, num_classes)\n",
    "\n",
    "    def forward(self, x):\n",
    "        # Initial hidden state of shape (num_layers, batch_size, hidden_size)\n",
    "        h0 = torch.zeros(self.num_layers, x.size(0), self.hidden_size).to(device)\n",
    "\n",
    "        # Forward propagate RNN\n",
    "        out, _ = self.rnn(x, h0)  # out: (batch_size, seq_length, hidden_size)\n",
    "\n",
    "        # Flatten the output                                                    #Input x.shape: [2, 28, 28]\n",
    "                                                                                #Output out.shape: [2, 28, 128]\n",
    "        out = out.reshape(out.size(0), -1)  # (batch_size, 128*28)\n",
    "        out = self.fc(out)\n",
    "        return out"
   ]
  },
  {
   "cell_type": "code",
   "execution_count": 21,
   "id": "147e909625322dc9",
   "metadata": {
    "ExecuteTime": {
     "end_time": "2025-07-16T22:55:31.024988Z",
     "start_time": "2025-07-16T22:55:17.600114Z"
    }
   },
   "outputs": [
    {
     "name": "stdout",
     "output_type": "stream",
     "text": [
      "Epoch [1/2], Step [100/938], Loss: 0.4282\n",
      "Epoch [1/2], Step [200/938], Loss: 0.2655\n",
      "Epoch [1/2], Step [300/938], Loss: 0.2697\n",
      "Epoch [1/2], Step [400/938], Loss: 0.1850\n",
      "Epoch [1/2], Step [500/938], Loss: 0.1492\n",
      "Epoch [1/2], Step [600/938], Loss: 0.1533\n",
      "Epoch [1/2], Step [700/938], Loss: 0.1883\n",
      "Epoch [1/2], Step [800/938], Loss: 0.1232\n",
      "Epoch [1/2], Step [900/938], Loss: 0.1992\n",
      "Epoch [2/2], Step [100/938], Loss: 0.2171\n",
      "Epoch [2/2], Step [200/938], Loss: 0.0966\n",
      "Epoch [2/2], Step [300/938], Loss: 0.2916\n",
      "Epoch [2/2], Step [400/938], Loss: 0.1517\n",
      "Epoch [2/2], Step [500/938], Loss: 0.0344\n",
      "Epoch [2/2], Step [600/938], Loss: 0.2973\n",
      "Epoch [2/2], Step [700/938], Loss: 0.1072\n",
      "Epoch [2/2], Step [800/938], Loss: 0.1842\n",
      "Epoch [2/2], Step [900/938], Loss: 0.0517\n"
     ]
    }
   ],
   "source": [
    "for epoch in range(num_epochs):\n",
    "    for i, (images, labels) in enumerate(train_loader):\n",
    "        # Move to device\n",
    "        images = images.reshape(-1, sequence_length, input_size).to(device)  # [batch, 28, 28]\n",
    "        labels = labels.to(device)\n",
    "\n",
    "        # Forward pass\n",
    "        outputs = model(images)\n",
    "        loss = criterion(outputs, labels)\n",
    "\n",
    "        # Backprop\n",
    "        optimizer.zero_grad()\n",
    "        loss.backward()\n",
    "        optimizer.step()\n",
    "\n",
    "        if (i+1) % 100 == 0:\n",
    "            print(f\"Epoch [{epoch+1}/{num_epochs}], Step [{i+1}/{len(train_loader)}], Loss: {loss.item():.4f}\")\n"
   ]
  },
  {
   "cell_type": "code",
   "execution_count": 22,
   "id": "6c47c69671c7ba9c",
   "metadata": {
    "ExecuteTime": {
     "end_time": "2025-07-16T22:55:34.843052Z",
     "start_time": "2025-07-16T22:55:33.463805Z"
    }
   },
   "outputs": [
    {
     "name": "stdout",
     "output_type": "stream",
     "text": [
      "Test Accuracy: 97.09%\n"
     ]
    }
   ],
   "source": [
    "# Testing\n",
    "model.eval()\n",
    "with torch.no_grad():\n",
    "    correct = 0\n",
    "    total = 0\n",
    "    for images, labels in test_loader:\n",
    "        images = images.reshape(-1, sequence_length, input_size).to(device)\n",
    "        labels = labels.to(device)\n",
    "        outputs = model(images)\n",
    "\n",
    "        _, predicted = torch.max(outputs.data, 1)\n",
    "        total += labels.size(0)\n",
    "        correct += (predicted == labels).sum().item()\n",
    "\n",
    "    print(f\"Test Accuracy: {100 * correct / total:.2f}%\")"
   ]
  },
  {
   "cell_type": "code",
   "execution_count": null,
   "id": "d8f9e73f5f6e4337",
   "metadata": {},
   "outputs": [],
   "source": [
    "nice if u are seeeying this you are also fucked"
   ]
  }
 ],
 "metadata": {
  "kernelspec": {
   "display_name": "Python 3",
   "language": "python",
   "name": "python3"
  },
  "language_info": {
   "codemirror_mode": {
    "name": "ipython",
    "version": 2
   },
   "file_extension": ".py",
   "mimetype": "text/x-python",
   "name": "python",
   "nbconvert_exporter": "python",
   "pygments_lexer": "ipython2",
   "version": "2.7.6"
  }
 },
 "nbformat": 4,
 "nbformat_minor": 5
}
